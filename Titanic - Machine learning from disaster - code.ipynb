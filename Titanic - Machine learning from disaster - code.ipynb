{
 "cells": [
  {
   "cell_type": "code",
   "execution_count": 1,
   "id": "91db575b",
   "metadata": {},
   "outputs": [],
   "source": [
    "import numpy as np\n",
    "import pandas as pd\n",
    "import os\n",
    "import matplotlib\n",
    "import matplotlib.pyplot as plt\n",
    "%matplotlib inline"
   ]
  },
  {
   "cell_type": "code",
   "execution_count": 2,
   "id": "99e87a4a",
   "metadata": {},
   "outputs": [
    {
     "name": "stdout",
     "output_type": "stream",
     "text": [
      "D:\\Kaggle\\Titanic - Machine learning disaster\n"
     ]
    }
   ],
   "source": [
    "print(os.getcwd())"
   ]
  },
  {
   "cell_type": "code",
   "execution_count": 3,
   "id": "8792e8f6",
   "metadata": {},
   "outputs": [],
   "source": [
    "train_data = pd.read_csv('datasets/train.csv')\n",
    "test_data = pd.read_csv('datasets/test.csv')\n",
    "results = pd.read_csv('datasets/gender_submission.csv')"
   ]
  },
  {
   "cell_type": "code",
   "execution_count": 4,
   "id": "0b126330",
   "metadata": {},
   "outputs": [],
   "source": [
    "train_data = train_data[['Survived','Pclass','Sex','Age','SibSp','Parch','Embarked']]\n",
    "train_data['Age'].fillna(30,inplace=True)\n",
    "sex = {'male':0,'female':1}\n",
    "train_data.Sex = [sex[i] for i in train_data.Sex]\n",
    "embark = {'S':-1,'C':0,'Q':1}\n",
    "train_data['Embarked'].fillna('Q',inplace=True)\n",
    "train_data.Embarked = [embark[i] for i in train_data.Embarked]\n",
    "train_X = train_data[['Pclass','Sex','Age','SibSp','Parch','Embarked']]\n",
    "train_y = train_data[['Survived']]"
   ]
  },
  {
   "cell_type": "code",
   "execution_count": 5,
   "id": "855e1e7b",
   "metadata": {},
   "outputs": [],
   "source": [
    "test_data = test_data[['Pclass','Sex','Age','SibSp','Parch','Embarked']]\n",
    "test_data['Age'].fillna(30,inplace=True)\n",
    "test_data.Sex = [sex[i] for i in test_data.Sex]\n",
    "test_data.Embarked = [embark[i] for i in test_data.Embarked]\n",
    "test_X = test_data"
   ]
  },
  {
   "cell_type": "code",
   "execution_count": 6,
   "id": "47d5cd2f",
   "metadata": {},
   "outputs": [
    {
     "data": {
      "text/html": [
       "<div>\n",
       "<style scoped>\n",
       "    .dataframe tbody tr th:only-of-type {\n",
       "        vertical-align: middle;\n",
       "    }\n",
       "\n",
       "    .dataframe tbody tr th {\n",
       "        vertical-align: top;\n",
       "    }\n",
       "\n",
       "    .dataframe thead th {\n",
       "        text-align: right;\n",
       "    }\n",
       "</style>\n",
       "<table border=\"1\" class=\"dataframe\">\n",
       "  <thead>\n",
       "    <tr style=\"text-align: right;\">\n",
       "      <th></th>\n",
       "      <th>Survived</th>\n",
       "      <th>Pclass</th>\n",
       "      <th>Sex</th>\n",
       "      <th>Age</th>\n",
       "      <th>SibSp</th>\n",
       "      <th>Parch</th>\n",
       "      <th>Embarked</th>\n",
       "    </tr>\n",
       "  </thead>\n",
       "  <tbody>\n",
       "    <tr>\n",
       "      <th>0</th>\n",
       "      <td>0</td>\n",
       "      <td>3</td>\n",
       "      <td>0</td>\n",
       "      <td>22.0</td>\n",
       "      <td>1</td>\n",
       "      <td>0</td>\n",
       "      <td>-1</td>\n",
       "    </tr>\n",
       "    <tr>\n",
       "      <th>1</th>\n",
       "      <td>1</td>\n",
       "      <td>1</td>\n",
       "      <td>1</td>\n",
       "      <td>38.0</td>\n",
       "      <td>1</td>\n",
       "      <td>0</td>\n",
       "      <td>0</td>\n",
       "    </tr>\n",
       "    <tr>\n",
       "      <th>2</th>\n",
       "      <td>1</td>\n",
       "      <td>3</td>\n",
       "      <td>1</td>\n",
       "      <td>26.0</td>\n",
       "      <td>0</td>\n",
       "      <td>0</td>\n",
       "      <td>-1</td>\n",
       "    </tr>\n",
       "    <tr>\n",
       "      <th>3</th>\n",
       "      <td>1</td>\n",
       "      <td>1</td>\n",
       "      <td>1</td>\n",
       "      <td>35.0</td>\n",
       "      <td>1</td>\n",
       "      <td>0</td>\n",
       "      <td>-1</td>\n",
       "    </tr>\n",
       "    <tr>\n",
       "      <th>4</th>\n",
       "      <td>0</td>\n",
       "      <td>3</td>\n",
       "      <td>0</td>\n",
       "      <td>35.0</td>\n",
       "      <td>0</td>\n",
       "      <td>0</td>\n",
       "      <td>-1</td>\n",
       "    </tr>\n",
       "  </tbody>\n",
       "</table>\n",
       "</div>"
      ],
      "text/plain": [
       "   Survived  Pclass  Sex   Age  SibSp  Parch  Embarked\n",
       "0         0       3    0  22.0      1      0        -1\n",
       "1         1       1    1  38.0      1      0         0\n",
       "2         1       3    1  26.0      0      0        -1\n",
       "3         1       1    1  35.0      1      0        -1\n",
       "4         0       3    0  35.0      0      0        -1"
      ]
     },
     "execution_count": 6,
     "metadata": {},
     "output_type": "execute_result"
    }
   ],
   "source": [
    "train_data.head()"
   ]
  },
  {
   "cell_type": "code",
   "execution_count": 7,
   "id": "cb36187b",
   "metadata": {},
   "outputs": [
    {
     "data": {
      "text/html": [
       "<div>\n",
       "<style scoped>\n",
       "    .dataframe tbody tr th:only-of-type {\n",
       "        vertical-align: middle;\n",
       "    }\n",
       "\n",
       "    .dataframe tbody tr th {\n",
       "        vertical-align: top;\n",
       "    }\n",
       "\n",
       "    .dataframe thead th {\n",
       "        text-align: right;\n",
       "    }\n",
       "</style>\n",
       "<table border=\"1\" class=\"dataframe\">\n",
       "  <thead>\n",
       "    <tr style=\"text-align: right;\">\n",
       "      <th></th>\n",
       "      <th>Pclass</th>\n",
       "      <th>Sex</th>\n",
       "      <th>Age</th>\n",
       "      <th>SibSp</th>\n",
       "      <th>Parch</th>\n",
       "      <th>Embarked</th>\n",
       "    </tr>\n",
       "  </thead>\n",
       "  <tbody>\n",
       "    <tr>\n",
       "      <th>0</th>\n",
       "      <td>3</td>\n",
       "      <td>0</td>\n",
       "      <td>34.5</td>\n",
       "      <td>0</td>\n",
       "      <td>0</td>\n",
       "      <td>1</td>\n",
       "    </tr>\n",
       "    <tr>\n",
       "      <th>1</th>\n",
       "      <td>3</td>\n",
       "      <td>1</td>\n",
       "      <td>47.0</td>\n",
       "      <td>1</td>\n",
       "      <td>0</td>\n",
       "      <td>-1</td>\n",
       "    </tr>\n",
       "    <tr>\n",
       "      <th>2</th>\n",
       "      <td>2</td>\n",
       "      <td>0</td>\n",
       "      <td>62.0</td>\n",
       "      <td>0</td>\n",
       "      <td>0</td>\n",
       "      <td>1</td>\n",
       "    </tr>\n",
       "    <tr>\n",
       "      <th>3</th>\n",
       "      <td>3</td>\n",
       "      <td>0</td>\n",
       "      <td>27.0</td>\n",
       "      <td>0</td>\n",
       "      <td>0</td>\n",
       "      <td>-1</td>\n",
       "    </tr>\n",
       "    <tr>\n",
       "      <th>4</th>\n",
       "      <td>3</td>\n",
       "      <td>1</td>\n",
       "      <td>22.0</td>\n",
       "      <td>1</td>\n",
       "      <td>1</td>\n",
       "      <td>-1</td>\n",
       "    </tr>\n",
       "  </tbody>\n",
       "</table>\n",
       "</div>"
      ],
      "text/plain": [
       "   Pclass  Sex   Age  SibSp  Parch  Embarked\n",
       "0       3    0  34.5      0      0         1\n",
       "1       3    1  47.0      1      0        -1\n",
       "2       2    0  62.0      0      0         1\n",
       "3       3    0  27.0      0      0        -1\n",
       "4       3    1  22.0      1      1        -1"
      ]
     },
     "execution_count": 7,
     "metadata": {},
     "output_type": "execute_result"
    }
   ],
   "source": [
    "test_data.head()"
   ]
  },
  {
   "cell_type": "code",
   "execution_count": 8,
   "id": "cb8e1bba",
   "metadata": {},
   "outputs": [],
   "source": [
    "results = results[['Survived']]"
   ]
  },
  {
   "cell_type": "code",
   "execution_count": 9,
   "id": "245309cb",
   "metadata": {},
   "outputs": [],
   "source": [
    "X = np.array(train_X)\n",
    "y = np.array(train_y)\n",
    "X_test = np.array(test_X)\n",
    "y_test = np.array(results)"
   ]
  },
  {
   "cell_type": "code",
   "execution_count": 10,
   "id": "dca58170",
   "metadata": {},
   "outputs": [],
   "source": [
    "passenger_index = X.shape[0]\n",
    "bias = np.ones((X.shape[0],1))\n",
    "bias_test = np.ones((X_test.shape[0],1))"
   ]
  },
  {
   "cell_type": "code",
   "execution_count": 11,
   "id": "83cf8242",
   "metadata": {},
   "outputs": [
    {
     "name": "stdout",
     "output_type": "stream",
     "text": [
      "[[ 1.  3.  0. ...  1.  0. -1.]\n",
      " [ 1.  1.  1. ...  1.  0.  0.]\n",
      " [ 1.  3.  1. ...  0.  0. -1.]\n",
      " ...\n",
      " [ 1.  3.  1. ...  1.  2. -1.]\n",
      " [ 1.  1.  0. ...  0.  0.  0.]\n",
      " [ 1.  3.  0. ...  0.  0.  1.]]\n"
     ]
    }
   ],
   "source": [
    "X = np.column_stack((bias,X))\n",
    "X_test = np.column_stack((bias_test,X_test))\n",
    "print(X)"
   ]
  },
  {
   "cell_type": "code",
   "execution_count": 12,
   "id": "e34f241d",
   "metadata": {},
   "outputs": [],
   "source": [
    "w = np.zeros((X.shape[1],1))\n",
    "z = np.dot(X,w)\n",
    "a = 1/(1+np.exp(-z))\n",
    "m = X.shape[0]"
   ]
  },
  {
   "cell_type": "code",
   "execution_count": 13,
   "id": "2a68c56d",
   "metadata": {},
   "outputs": [
    {
     "name": "stdout",
     "output_type": "stream",
     "text": [
      "(891, 1)\n",
      "(891, 1)\n",
      "(891, 7)\n",
      "(7, 1)\n"
     ]
    }
   ],
   "source": [
    "print(y.shape)\n",
    "print(a.shape)\n",
    "print(X.shape)\n",
    "print(w.shape)\n"
   ]
  },
  {
   "cell_type": "code",
   "execution_count": 14,
   "id": "6dc2a120",
   "metadata": {},
   "outputs": [],
   "source": [
    "def CostFunction(a,y,m):\n",
    "    cost = (-1/m)*(np.dot(y.T,(np.log(a)))+np.dot((1-y).T,np.log(1-a)))\n",
    "    cost = np.sum(cost)\n",
    "    return cost\n",
    "    "
   ]
  },
  {
   "cell_type": "code",
   "execution_count": 15,
   "id": "1bb3cce5",
   "metadata": {},
   "outputs": [],
   "source": [
    "iterations = 10000\n",
    "learning_rate = 0.008\n",
    "\n"
   ]
  },
  {
   "cell_type": "code",
   "execution_count": 16,
   "id": "35eda288",
   "metadata": {},
   "outputs": [],
   "source": [
    "costs = list(())\n",
    "for i in range(iterations):\n",
    "    cost = CostFunction(a,y,m)\n",
    "    if(i%100==0):\n",
    "        costs.append(cost)\n",
    "    theta = (1/m)*(np.multiply(a-y,X))\n",
    "    theta = np.sum(theta,keepdims=True,axis=0)\n",
    "    theta = theta.T\n",
    "    w = w - theta*learning_rate\n",
    "    z = np.dot(X,w)\n",
    "    a = 1/(1+np.exp(-z))\n",
    "    \n"
   ]
  },
  {
   "cell_type": "code",
   "execution_count": 17,
   "id": "b4ccaee7",
   "metadata": {},
   "outputs": [
    {
     "data": {
      "text/plain": [
       "[<matplotlib.lines.Line2D at 0x251024d2460>]"
      ]
     },
     "execution_count": 17,
     "metadata": {},
     "output_type": "execute_result"
    },
    {
     "data": {
      "image/png": "[encoded data removed]",
      "text/plain": [
       "<Figure size 432x288 with 1 Axes>"
      ]
     },
     "metadata": {
      "needs_background": "light"
     },
     "output_type": "display_data"
    }
   ],
   "source": [
    "plt.plot(costs)"
   ]
  },
  {
   "cell_type": "code",
   "execution_count": 18,
   "id": "3b76ba37",
   "metadata": {},
   "outputs": [],
   "source": [
    "def predict(x,a):\n",
    "    predictions = list()\n",
    "    for i in range(x.shape[0]):\n",
    "        if a[i][0] > 0.6:\n",
    "            predictions.append(1)\n",
    "        else:\n",
    "            predictions.append(0)\n",
    "    return predictions"
   ]
  },
  {
   "cell_type": "code",
   "execution_count": 19,
   "id": "d883564c",
   "metadata": {},
   "outputs": [],
   "source": [
    "predictions = predict(X,a)\n",
    "error = 0"
   ]
  },
  {
   "cell_type": "code",
   "execution_count": 20,
   "id": "b99cdbe6",
   "metadata": {},
   "outputs": [],
   "source": [
    "for i in range(len(predictions)):\n",
    "    error += abs(predictions[i]-y[i][0])\n",
    "\n",
    "error = error/(len(predictions))"
   ]
  },
  {
   "cell_type": "code",
   "execution_count": 21,
   "id": "3b486833",
   "metadata": {},
   "outputs": [
    {
     "name": "stdout",
     "output_type": "stream",
     "text": [
      "Training Accuracy :  81.4814814814815\n"
     ]
    }
   ],
   "source": [
    "print(\"Training Accuracy : \", (1-error)*100)"
   ]
  },
  {
   "cell_type": "code",
   "execution_count": 22,
   "id": "35591182",
   "metadata": {},
   "outputs": [],
   "source": [
    "z_test = np.dot(X_test,w)\n",
    "a_test = 1/(1+np.exp(-z_test))"
   ]
  },
  {
   "cell_type": "code",
   "execution_count": 23,
   "id": "e61da697",
   "metadata": {},
   "outputs": [
    {
     "name": "stdout",
     "output_type": "stream",
     "text": [
      "Testing Accuracy :  97.8675645342312\n"
     ]
    }
   ],
   "source": [
    "predict_train = predict(X_test,a_test)\n",
    "error = 0\n",
    "for i in range(len(predict_train)):\n",
    "    error += abs(predict_train[i]-y_test[i][0])\n",
    "\n",
    "error = error/(len(predictions))\n",
    "print(\"Testing Accuracy : \", (1-error)*100)"
   ]
  },
  {
   "cell_type": "code",
   "execution_count": null,
   "id": "2fd53fd5",
   "metadata": {},
   "outputs": [],
   "source": []
  },
  {
   "cell_type": "code",
   "execution_count": null,
   "id": "c5399197",
   "metadata": {},
   "outputs": [],
   "source": []
  }
 ],
 "metadata": {
  "kernelspec": {
   "display_name": "Python 3 (ipykernel)",
   "language": "python",
   "name": "python3"
  },
  "language_info": {
   "codemirror_mode": {
    "name": "ipython",
    "version": 3
   },
   "file_extension": ".py",
   "mimetype": "text/x-python",
   "name": "python",
   "nbconvert_exporter": "python",
   "pygments_lexer": "ipython3",
   "version": "3.8.0"
  }
 },
 "nbformat": 4,
 "nbformat_minor": 5
}
