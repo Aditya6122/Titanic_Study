{
 "cells": [
  {
   "cell_type": "code",
   "execution_count": 1,
   "id": "4ee123d7",
   "metadata": {},
   "outputs": [],
   "source": [
    "import numpy as np\n",
    "import pandas as pd\n",
    "import matplotlib.pyplot as plt\n",
    "%matplotlib inline\n",
    "import os"
   ]
  },
  {
   "cell_type": "code",
   "execution_count": 2,
   "id": "b118e538",
   "metadata": {},
   "outputs": [
    {
     "name": "stdout",
     "output_type": "stream",
     "text": [
      "D:\\Kaggle\\Titanic - Machine learning disaster\n"
     ]
    }
   ],
   "source": [
    "print(os.getcwd())"
   ]
  },
  {
   "cell_type": "code",
   "execution_count": 3,
   "id": "f6aee21c",
   "metadata": {},
   "outputs": [
    {
     "name": "stdout",
     "output_type": "stream",
     "text": [
      "['.ipynb_checkpoints', 'datasets', 'Titanic - Machine learning from disaster - code.ipynb', 'Titanic 2.ipynb']\n"
     ]
    }
   ],
   "source": [
    "print(os.listdir())"
   ]
  },
  {
   "cell_type": "code",
   "execution_count": 4,
   "id": "269d2555",
   "metadata": {},
   "outputs": [],
   "source": [
    "train_data = pd.read_csv('datasets/train.csv')\n",
    "test_data = pd.read_csv('datasets/test.csv')"
   ]
  },
  {
   "cell_type": "code",
   "execution_count": 5,
   "id": "32467829",
   "metadata": {},
   "outputs": [
    {
     "name": "stdout",
     "output_type": "stream",
     "text": [
      "   PassengerId  Survived  Pclass  \\\n",
      "0            1         0       3   \n",
      "1            2         1       1   \n",
      "2            3         1       3   \n",
      "3            4         1       1   \n",
      "4            5         0       3   \n",
      "\n",
      "                                                Name     Sex   Age  SibSp  \\\n",
      "0                            Braund, Mr. Owen Harris    male  22.0      1   \n",
      "1  Cumings, Mrs. John Bradley (Florence Briggs Th...  female  38.0      1   \n",
      "2                             Heikkinen, Miss. Laina  female  26.0      0   \n",
      "3       Futrelle, Mrs. Jacques Heath (Lily May Peel)  female  35.0      1   \n",
      "4                           Allen, Mr. William Henry    male  35.0      0   \n",
      "\n",
      "   Parch            Ticket     Fare Cabin Embarked  \n",
      "0      0         A/5 21171   7.2500   NaN        S  \n",
      "1      0          PC 17599  71.2833   C85        C  \n",
      "2      0  STON/O2. 3101282   7.9250   NaN        S  \n",
      "3      0            113803  53.1000  C123        S  \n",
      "4      0            373450   8.0500   NaN        S  \n"
     ]
    }
   ],
   "source": [
    "print(train_data.head())"
   ]
  },
  {
   "cell_type": "code",
   "execution_count": 6,
   "id": "bb8b5474",
   "metadata": {},
   "outputs": [
    {
     "name": "stdout",
     "output_type": "stream",
     "text": [
      "Survived 0.0\n",
      "Pclass 0.0\n",
      "Name 0.0\n",
      "Sex 0.0\n",
      "Age 19.8653\n",
      "SibSp 0.0\n",
      "Parch 0.0\n",
      "Ticket 0.0\n",
      "Fare 0.0\n",
      "Cabin 77.1044\n",
      "Embarked 0.2245\n"
     ]
    }
   ],
   "source": [
    "del train_data['PassengerId']\n",
    "for feature in train_data:\n",
    "    print(feature,np.round((train_data[feature].isnull().sum()*100)/len(train_data),4))"
   ]
  },
  {
   "cell_type": "code",
   "execution_count": 7,
   "id": "4bed833c",
   "metadata": {},
   "outputs": [],
   "source": [
    "data = train_data.copy()\n",
    "a =data['Embarked'].value_counts()\n",
    "b = data.groupby('Embarked')['Survived']"
   ]
  },
  {
   "cell_type": "code",
   "execution_count": 8,
   "id": "c1ab70b8",
   "metadata": {},
   "outputs": [
    {
     "name": "stdout",
     "output_type": "stream",
     "text": [
      "Index(['S', 'C', 'Q'], dtype='object')\n"
     ]
    }
   ],
   "source": [
    "print(a.index)"
   ]
  },
  {
   "cell_type": "code",
   "execution_count": 9,
   "id": "34838052",
   "metadata": {},
   "outputs": [
    {
     "name": "stdout",
     "output_type": "stream",
     "text": [
      "0.5535714285714286\n",
      "0.44642857142857145\n",
      "168\n",
      "0.38961038961038963\n",
      "0.6103896103896104\n",
      "77\n",
      "0.33695652173913043\n",
      "0.6630434782608695\n",
      "644\n"
     ]
    }
   ],
   "source": [
    "embarked_survivals = []\n",
    "embarked_died = []\n",
    "for feature in b:\n",
    "    sum = 0\n",
    "    for i in feature[1]:\n",
    "        sum+=i\n",
    "    print(sum/len(feature[1]))\n",
    "    \n",
    "    embarked_survivals.append(sum/len(feature[1]))\n",
    "    embarked_died.append((len(feature[1])-sum)/len(feature[1]))\n",
    "    print((len(feature[1])-sum)/len(feature[1]))\n",
    "    print(len(feature[1]))"
   ]
  },
  {
   "cell_type": "code",
   "execution_count": 10,
   "id": "8b5fbb10",
   "metadata": {},
   "outputs": [
    {
     "name": "stdout",
     "output_type": "stream",
     "text": [
      "[0.5535714285714286, 0.38961038961038963, 0.33695652173913043]\n"
     ]
    }
   ],
   "source": [
    "print(embarked_survivals)"
   ]
  },
  {
   "cell_type": "code",
   "execution_count": 11,
   "id": "433fca39",
   "metadata": {},
   "outputs": [
    {
     "data": {
      "image/png": "[encoded data removed]",
      "text/plain": [
       "<Figure size 432x288 with 1 Axes>"
      ]
     },
     "metadata": {
      "needs_background": "light"
     },
     "output_type": "display_data"
    }
   ],
   "source": [
    "df = pd.DataFrame({'embarked_survivals':embarked_survivals,'embarked_died':embarked_died},index = a.index)\n",
    "df.plot.bar()\n",
    "plt.show()"
   ]
  },
  {
   "cell_type": "code",
   "execution_count": 12,
   "id": "9977db00",
   "metadata": {},
   "outputs": [
    {
     "data": {
      "text/plain": [
       "(array([ 61, 829], dtype=int64),)"
      ]
     },
     "execution_count": 12,
     "metadata": {},
     "output_type": "execute_result"
    }
   ],
   "source": [
    "np.where(train_data['Embarked'].isnull())"
   ]
  },
  {
   "cell_type": "code",
   "execution_count": 14,
   "id": "f2a85eaf",
   "metadata": {},
   "outputs": [],
   "source": [
    "train_data['Embarked'].fillna('Q',inplace=True)"
   ]
  },
  {
   "cell_type": "code",
   "execution_count": 15,
   "id": "fe5e9319",
   "metadata": {},
   "outputs": [
    {
     "name": "stdout",
     "output_type": "stream",
     "text": [
      "Survived 0.0\n",
      "Pclass 0.0\n",
      "Name 0.0\n",
      "Sex 0.0\n",
      "Age 19.8653\n",
      "SibSp 0.0\n",
      "Parch 0.0\n",
      "Ticket 0.0\n",
      "Fare 0.0\n",
      "Cabin 77.1044\n",
      "Embarked 0.0\n"
     ]
    }
   ],
   "source": [
    "for feature in train_data:\n",
    "    print(feature,np.round((train_data[feature].isnull().sum()*100)/len(train_data),4))"
   ]
  },
  {
   "cell_type": "code",
   "execution_count": 40,
   "id": "611fb7cc",
   "metadata": {},
   "outputs": [
    {
     "data": {
      "image/png": "[encoded data removed]",
      "text/plain": [
       "<Figure size 432x288 with 1 Axes>"
      ]
     },
     "metadata": {
      "needs_background": "light"
     },
     "output_type": "display_data"
    }
   ],
   "source": [
    "age = train_data.groupby('Survived')['Age'].mean().plot.bar()\n",
    "plt.show()"
   ]
  },
  {
   "cell_type": "code",
   "execution_count": 41,
   "id": "c5e4bf5e",
   "metadata": {},
   "outputs": [
    {
     "data": {
      "text/plain": [
       "<matplotlib.collections.PathCollection at 0x2311a6f94c0>"
      ]
     },
     "execution_count": 41,
     "metadata": {},
     "output_type": "execute_result"
    },
    {
     "data": {
      "image/png": "[encoded data removed]",
      "text/plain": [
       "<Figure size 432x288 with 1 Axes>"
      ]
     },
     "metadata": {
      "needs_background": "light"
     },
     "output_type": "display_data"
    }
   ],
   "source": [
    "plt.scatter(train_data['Survived'],train_data['Age'])"
   ]
  },
  {
   "cell_type": "code",
   "execution_count": null,
   "id": "86825cea",
   "metadata": {},
   "outputs": [],
   "source": []
  }
 ],
 "metadata": {
  "kernelspec": {
   "display_name": "Python 3 (ipykernel)",
   "language": "python",
   "name": "python3"
  },
  "language_info": {
   "codemirror_mode": {
    "name": "ipython",
    "version": 3
   },
   "file_extension": ".py",
   "mimetype": "text/x-python",
   "name": "python",
   "nbconvert_exporter": "python",
   "pygments_lexer": "ipython3",
   "version": "3.8.0"
  }
 },
 "nbformat": 4,
 "nbformat_minor": 5
}
